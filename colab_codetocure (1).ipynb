{
  "cells": [
    {
      "cell_type": "code",
      "execution_count": 1,
      "metadata": {
        "id": "0XLYOMfcQxl9"
      },
      "outputs": [],
      "source": [
        "import os \n",
        "import glob\n",
        "import shutil \n",
        "from google.colab import drive\n"
      ]
    },
    {
      "cell_type": "code",
      "execution_count": 2,
      "metadata": {
        "colab": {
          "base_uri": "https://localhost:8080/"
        },
        "id": "ZbpZI9wXHLRF",
        "outputId": "382f80a3-fd6c-4cc4-ed3d-b0ec5f2566ea"
      },
      "outputs": [
        {
          "output_type": "stream",
          "name": "stdout",
          "text": [
            "Mounted at /content/drive\n"
          ]
        }
      ],
      "source": [
        "drive.mount('/content/drive')\n",
        "\n"
      ]
    },
    {
      "cell_type": "code",
      "source": [
        "!pip install torch timm fastai"
      ],
      "metadata": {
        "id": "EK2plWLbGw9q"
      },
      "execution_count": null,
      "outputs": []
    },
    {
      "cell_type": "code",
      "source": [
        "import timm\n",
        "from fastai.vision.all import *\n",
        "from fastcore.all import *"
      ],
      "metadata": {
        "id": "AOUwQw3PGxG4"
      },
      "execution_count": 4,
      "outputs": []
    },
    {
      "cell_type": "code",
      "source": [
        "from keras.applications.vgg19 import VGG19,preprocess_input\n",
        "from keras.applications.xception import Xception,preprocess_input"
      ],
      "metadata": {
        "id": "rIbcLg4STOg9"
      },
      "execution_count": 5,
      "outputs": []
    },
    {
      "cell_type": "code",
      "source": [
        "path = '/content/drive/MyDrive/code-to-cure-10'"
      ],
      "metadata": {
        "id": "l_Yxp0oQGxL6"
      },
      "execution_count": 6,
      "outputs": []
    },
    {
      "cell_type": "code",
      "source": [
        "!pip install timm"
      ],
      "metadata": {
        "id": "qe94Kv5oGxQx"
      },
      "execution_count": null,
      "outputs": []
    },
    {
      "cell_type": "code",
      "source": [
        "pip install --upgrade timm"
      ],
      "metadata": {
        "id": "uEJf6ZEBTtjX"
      },
      "execution_count": null,
      "outputs": []
    },
    {
      "cell_type": "code",
      "source": [
        "timm.list_models()"
      ],
      "metadata": {
        "id": "bFNkH6gsUroQ"
      },
      "execution_count": null,
      "outputs": []
    },
    {
      "cell_type": "code",
      "source": [
        "# Define the transforms to apply\n",
        "data_augmentation = aug_transforms(\n",
        "    do_flip=True, \n",
        "    flip_vert=True, \n",
        "    max_rotate=10.0, \n",
        "    max_zoom=1.4, \n",
        "    max_lighting=0.5, \n",
        "    max_warp=0.2, \n",
        "    p_affine=0.75, \n",
        "    p_lighting=0.75\n",
        ")\n",
        "# transforms = [aug_transforms(do_flip=True, flip_vert=True),\n",
        "#               Rotate(max_deg=10.0, p=0.75),\n",
        "#               Zoom(max_zoom=1.1, p=0.75),\n",
        "#               Warp(p=0.75),\n",
        "#               RandomBrightnessContrast(p=0.75, brightness_max=0.2, contrast_max=0.2)]\n",
        "\n",
        "# Create the datablock and dataloaders\n",
        "brain_scan = DataBlock(\n",
        "    blocks=(ImageBlock, CategoryBlock),\n",
        "    get_items=get_image_files,\n",
        "    get_y=parent_label,\n",
        "    splitter=RandomSplitter(valid_pct=0.2, seed=42),\n",
        "    item_tfms=[Resize(224, method='squish')], \n",
        "    batch_tfms=[*data_augmentation, Normalize.from_stats(*imagenet_stats)]\n",
        ")\n",
        "\n",
        "train_dl = brain_scan.dataloaders(path, bs=32)\n",
        "\n",
        "# Define the model architecture\n",
        "learner = cnn_learner(train_dl, 'beitv2_large_patch16_224_in22k', metrics=[accuracy], cbs=[ShowGraphCallback()])\n",
        "\n",
        "# Train the model\n",
        "learner.fine_tune(2)"
      ],
      "metadata": {
        "colab": {
          "base_uri": "https://localhost:8080/",
          "height": 206
        },
        "id": "wpT--wOMHKOa",
        "outputId": "bfccddb2-0f01-4f02-fa75-2776f809506c"
      },
      "execution_count": null,
      "outputs": [
        {
          "output_type": "stream",
          "name": "stderr",
          "text": [
            "/usr/local/lib/python3.9/dist-packages/fastai/vision/learner.py:288: UserWarning: `cnn_learner` has been renamed to `vision_learner` -- please update your code\n",
            "  warn(\"`cnn_learner` has been renamed to `vision_learner` -- please update your code\")\n",
            "/usr/local/lib/python3.9/dist-packages/torch/functional.py:504: UserWarning: torch.meshgrid: in an upcoming release, it will be required to pass the indexing argument. (Triggered internally at ../aten/src/ATen/native/TensorShape.cpp:3483.)\n",
            "  return _VF.meshgrid(tensors, **kwargs)  # type: ignore[attr-defined]\n",
            "Downloading: \"https://conversationhub.blob.core.windows.net/beit-share-public/beitv2/beitv2_large_patch16_224_pt1k_ft21k.pth\" to /root/.cache/torch/hub/checkpoints/beitv2_large_patch16_224_pt1k_ft21k.pth\n"
          ]
        },
        {
          "output_type": "display_data",
          "data": {
            "text/plain": [
              "<IPython.core.display.HTML object>"
            ],
            "text/html": [
              "\n",
              "<style>\n",
              "    /* Turns off some styling */\n",
              "    progress {\n",
              "        /* gets rid of default border in Firefox and Opera. */\n",
              "        border: none;\n",
              "        /* Needs to be in here for Safari polyfill so background images work as expected. */\n",
              "        background-size: auto;\n",
              "    }\n",
              "    progress:not([value]), progress:not([value])::-webkit-progress-bar {\n",
              "        background: repeating-linear-gradient(45deg, #7e7e7e, #7e7e7e 10px, #5c5c5c 10px, #5c5c5c 20px);\n",
              "    }\n",
              "    .progress-bar-interrupted, .progress-bar-interrupted::-webkit-progress-bar {\n",
              "        background: #F44336;\n",
              "    }\n",
              "</style>\n"
            ]
          },
          "metadata": {}
        },
        {
          "output_type": "display_data",
          "data": {
            "text/plain": [
              "<IPython.core.display.HTML object>"
            ],
            "text/html": [
              "\n",
              "    <div>\n",
              "      <progress value='0' class='' max='1' style='width:300px; height:20px; vertical-align: middle;'></progress>\n",
              "      0.00% [0/1 00:00&lt;?]\n",
              "    </div>\n",
              "    \n",
              "<table border=\"1\" class=\"dataframe\">\n",
              "  <thead>\n",
              "    <tr style=\"text-align: left;\">\n",
              "      <th>epoch</th>\n",
              "      <th>train_loss</th>\n",
              "      <th>valid_loss</th>\n",
              "      <th>accuracy</th>\n",
              "      <th>time</th>\n",
              "    </tr>\n",
              "  </thead>\n",
              "  <tbody>\n",
              "  </tbody>\n",
              "</table><p>\n",
              "\n",
              "    <div>\n",
              "      <progress value='82' class='' max='124' style='width:300px; height:20px; vertical-align: middle;'></progress>\n",
              "      66.13% [82/124 14:46&lt;07:33 1.2312]\n",
              "    </div>\n",
              "    "
            ]
          },
          "metadata": {}
        }
      ]
    },
    {
      "cell_type": "code",
      "source": [],
      "metadata": {
        "id": "RQiLdFhBHYLW"
      },
      "execution_count": null,
      "outputs": []
    }
  ],
  "metadata": {
    "accelerator": "GPU",
    "colab": {
      "provenance": []
    },
    "gpuClass": "standard",
    "kernelspec": {
      "display_name": "Python 3",
      "name": "python3"
    },
    "language_info": {
      "name": "python"
    }
  },
  "nbformat": 4,
  "nbformat_minor": 0
}